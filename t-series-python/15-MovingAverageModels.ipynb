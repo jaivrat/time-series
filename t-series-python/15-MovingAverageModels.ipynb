{
 "cells": [
  {
   "cell_type": "markdown",
   "id": "35eabb14-945f-4cad-a383-a9892a7360af",
   "metadata": {},
   "source": [
    "* **What are Moving Average Models(MA)**\n",
    "\n",
    "Recall that AR model was regressing a series are linear combination of its own lagged values. \n",
    "\n",
    "In MA model, we forecast not using values but previous errors instead.\n",
    "\n",
    "\n",
    "$$\n",
    "y_t = \\mu + \\epsilon_t + \\theta_1 \\epsilon_{t-1} + \\theta_2 \\epsilon_{t-2} +...+ \\theta_q \\epsilon_{t-q} \n",
    "$$\n",
    "\n",
    "Note that $\\epsilon_{t-1}$ .. $\\epsilon_{t-q} $ are previous forecast errors\n",
    "\n",
    "* **Requirements**\n",
    "\n",
    "The data had to be stationary. Stationarity could be done through box-cox or log tranformation.\n",
    "\n",
    "\n",
    "\n",
    "* **Order Selection**\n",
    "\n",
    "\n",
    "\n",
    "\n",
    "\n",
    "* "
   ]
  },
  {
   "cell_type": "code",
   "execution_count": null,
   "id": "0d6b84e8-ba73-48e7-9641-d641bf2b669f",
   "metadata": {},
   "outputs": [],
   "source": []
  }
 ],
 "metadata": {
  "kernelspec": {
   "display_name": "tseries",
   "language": "python",
   "name": "tseries"
  },
  "language_info": {
   "codemirror_mode": {
    "name": "ipython",
    "version": 3
   },
   "file_extension": ".py",
   "mimetype": "text/x-python",
   "name": "python",
   "nbconvert_exporter": "python",
   "pygments_lexer": "ipython3",
   "version": "3.8.19"
  }
 },
 "nbformat": 4,
 "nbformat_minor": 5
}
