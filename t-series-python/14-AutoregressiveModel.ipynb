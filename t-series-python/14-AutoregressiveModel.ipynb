{
 "cells": [
  {
   "cell_type": "markdown",
   "id": "1b835273-14eb-4bf8-9def-8d6d99f16c32",
   "metadata": {},
   "source": [
    "#### AR(p) model:\n",
    "\n",
    "\n",
    "$$\n",
    "y_t  = c + \\phi_1 y_{t-1} + \\phi_2 y_{t-2} + ... + \\phi_p y_{t-p} + \\epsilon_t\n",
    "$$\n",
    "\n",
    "Goal is to find $\\phi$ components..\n",
    "\n",
    "Requirements\n",
    "\n",
    "* Time Series must be stationary\n",
    "\n",
    "Stationarity can be achieved by differencing or stabilizing variance through Box-Cox transform.\n",
    "\n",
    "##### Estimation:\n",
    "\n",
    "Coefficients/parameters determined by MLE. MLE deduces optimal values. MLE of normal distribution is also equivalent to carrying OLS. Therefore OLS is also used directly.\n",
    "\n",
    "Before fitting..\n",
    "\n"
   ]
  },
  {
   "cell_type": "code",
   "execution_count": null,
   "id": "74d1f717-008a-40cf-9e82-331228ba6839",
   "metadata": {},
   "outputs": [],
   "source": []
  }
 ],
 "metadata": {
  "kernelspec": {
   "display_name": "tseries",
   "language": "python",
   "name": "tseries"
  },
  "language_info": {
   "codemirror_mode": {
    "name": "ipython",
    "version": 3
   },
   "file_extension": ".py",
   "mimetype": "text/x-python",
   "name": "python",
   "nbconvert_exporter": "python",
   "pygments_lexer": "ipython3",
   "version": "3.8.19"
  }
 },
 "nbformat": 4,
 "nbformat_minor": 5
}
