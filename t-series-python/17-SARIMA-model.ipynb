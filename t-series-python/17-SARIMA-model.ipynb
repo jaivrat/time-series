{
 "cells": [
  {
   "cell_type": "markdown",
   "id": "d079ecc0",
   "metadata": {},
   "source": [
    "What is SARIMA model?\n",
    "SARIMA Requirements\n",
    "\n",
    "Why do we need SARIMA ? \n",
    "\n",
    "Earlier we saw ARMA, ARIMA - but they lack awareness of seasonality! \n",
    "SARIMA addresses this shortcoming.\n",
    "\n",
    "\n",
    "#### Overview\n",
    "\n",
    "SARIMA - extension to ARIMA , adds seasonality component to the model. This allows us to better capture seasonal effects that the regular ARIMA model does not permit.\n",
    "\n",
    "\n",
    "#### Theory\n",
    "\n",
    "The classic ARIMA has three comps - AR, I(differencing) and MA. These are linearly combined to form the model.\n",
    "\n",
    "For ARIMA(p,d,q)\n",
    "\n",
    "$$\n",
    "y'_t = c + \\sum_{n=1}^{p} \\phi_n y'_{t-n} + \\sum_{n=1}^{q} \\theta_n \\epsilon_{t-n}  + \\epsilon_t\n",
    "$$\n",
    "\n",
    "\n",
    "* $y'$: differenced time series,differencing order d \n",
    "* $\\phi$ : coeffs of AR part (ie lags)\n",
    "* $p$ : order of AR\n",
    "* $\\epsilon$ : forecast error terms, the MA component\n",
    "* $\\theta$ : coeffs of lagged forecast errors\n",
    "* $q$ : number of lagged error components\n",
    "\n",
    "\n",
    "SARIMA adds a seasonality component to each factor of the ARIMA equation to produce SARIMA(p,d,q)(P,D,Q)\n",
    "\n",
    "\n",
    "#### Requirements\n",
    "\n",
    "Like ARIMA, the SARIMA also needs stationarity. This means the series should have constant meand and variance ans should not exhibit seasonality. A stationary time series is one where the value of the time series is not dependent on time. The stability of mean is generally achieved by differencing of the series and stability of variance is attained by logarithmic or box cox transformation.\n",
    "\n",
    "\n",
    "\n",
    "#### Order selection\n",
    "\n",
    "Use ADF (Augmneted Dickey Fuller) test to check the seasonality. It is explained in other notebooks of this crash course. Seasonal differencing D, and regular differencing d needs to be determined to make this stationary.\n",
    "\n",
    "The AR and MA orders can be obtained by PACF and ACF (AR=>PACF, and MA=>ACF) plots.  These correlograms also reveal seasonal patterns - peaks for specific lags.  \n",
    "\n",
    "\n",
    "#### Estimation\n",
    "\n",
    "The final step is to compute the correspoding coefficients for these orders. The most common method is to use MLE. And we know MLE assumes a fixed mean/variance like statistical properties, and this means we need to have stationarity in data series.\n",
    "\n",
    "\n"
   ]
  },
  {
   "cell_type": "code",
   "execution_count": null,
   "id": "1fce8e5d",
   "metadata": {},
   "outputs": [],
   "source": []
  }
 ],
 "metadata": {
  "kernelspec": {
   "display_name": "tseries",
   "language": "python",
   "name": "tseries"
  },
  "language_info": {
   "codemirror_mode": {
    "name": "ipython",
    "version": 3
   },
   "file_extension": ".py",
   "mimetype": "text/x-python",
   "name": "python",
   "nbconvert_exporter": "python",
   "pygments_lexer": "ipython3",
   "version": "3.8.19"
  },
  "varInspector": {
   "cols": {
    "lenName": 16,
    "lenType": 16,
    "lenVar": 40
   },
   "kernels_config": {
    "python": {
     "delete_cmd_postfix": "",
     "delete_cmd_prefix": "del ",
     "library": "var_list.py",
     "varRefreshCmd": "print(var_dic_list())"
    },
    "r": {
     "delete_cmd_postfix": ") ",
     "delete_cmd_prefix": "rm(",
     "library": "var_list.r",
     "varRefreshCmd": "cat(var_dic_list()) "
    }
   },
   "types_to_exclude": [
    "module",
    "function",
    "builtin_function_or_method",
    "instance",
    "_Feature"
   ],
   "window_display": false
  }
 },
 "nbformat": 4,
 "nbformat_minor": 5
}
