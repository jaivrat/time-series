{
 "cells": [
  {
   "cell_type": "markdown",
   "id": "fea85f9a-1660-438c-8dde-38b548e664b8",
   "metadata": {},
   "source": [
    "#### Introduction.\n",
    "\n",
    "We have seen so far the Simple Exponential Smoothing which took only level into account (with exponential smoothing). We have also seen and imporved model, Holt which also adds a trend component. This is also called double exponential smoothing. \n",
    "\n",
    "Finally we need to find a way to incorporate seasonality in the model. This will add seasonality in the exponential smoothing model.This is where it becomes **Holt Winters** (triple exponential smoothing comes in)\n",
    "\n",
    "#### Holt Winters Model Theory\n",
    "\n",
    "As stated above, the Holt Winters Model => Holts Linear Trend + Seasonlity. The addition of seasonality can be done in two ways additive and multiplicative.\n",
    "\n",
    "The difference between the two model is the size of the seosanility fluctuations. For an additive model, the seasonality fluctuations are mostly constant. However for multiplicative model the fluctuations are proportional to the value of the timeseries at that given time."
   ]
  },
  {
   "cell_type": "code",
   "execution_count": null,
   "id": "91c9f39b-6afa-4bc4-9805-1c253235c0e9",
   "metadata": {},
   "outputs": [],
   "source": []
  }
 ],
 "metadata": {
  "kernelspec": {
   "display_name": "tseries",
   "language": "python",
   "name": "tseries"
  },
  "language_info": {
   "codemirror_mode": {
    "name": "ipython",
    "version": 3
   },
   "file_extension": ".py",
   "mimetype": "text/x-python",
   "name": "python",
   "nbconvert_exporter": "python",
   "pygments_lexer": "ipython3",
   "version": "3.8.19"
  }
 },
 "nbformat": 4,
 "nbformat_minor": 5
}
