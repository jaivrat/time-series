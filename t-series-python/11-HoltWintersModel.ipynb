{
 "cells": [
  {
   "cell_type": "markdown",
   "id": "fea85f9a-1660-438c-8dde-38b548e664b8",
   "metadata": {},
   "source": [
    "#### Introduction.\n",
    "\n",
    "We have seen so far the Simple Exponential Smoothing which took only level into account (with exponential smoothing). We have also seen and imporved model, Holt which also adds a trend component. This is also called double exponential smoothing. \n",
    "\n",
    "Finally we need to find a way to incorporate seasonality in the model. This will add seasonality in the exponential smoothing model.This is where it becomes **Holt Winters** (triple exponential smoothing comes in)\n",
    "\n",
    "#### Holt Winters Model Theory\n",
    "\n",
    "As stated above, the Holt Winters Model => Holts Linear Trend + Seasonlity. The addition of seasonality can be done in two ways additive and multiplicative.\n",
    "\n",
    "The difference between the two model is the size of the seosanility fluctuations. For an additive model, the seasonality fluctuations are mostly constant. However for multiplicative model the fluctuations are proportional to the value of the timeseries at that given time."
   ]
  },
  {
   "cell_type": "markdown",
   "id": "8b0ba879-a551-4fa0-b4e4-5d6724d72f80",
   "metadata": {},
   "source": [
    "\n",
    "Overall Equation:\n",
    "$$\n",
    "\\hat y_{t+h} = l_t + h b_t + s_{t+h-m}\n",
    "$$\n",
    "\n",
    "Level Equation:\n",
    "$$\n",
    "l_t = \\alpha (y_t - s_{t-m}) + (1-\\alpha)(l_{t-1} + b_{t-1})\n",
    "$$\n",
    "\n",
    "Trend Equation:\n",
    "$$\n",
    "b_t = \\beta (l_t - l_{t-1}) + (1-\\beta) b_{t-1}\n",
    "$$\n",
    "\n",
    "Seasonality Equation:\n",
    "$$\n",
    "b_t = \\gamma (y_t - l_{t-1} - b_{t-1}) + (1-\\gamma) s_{t-m}\n",
    "$$\n",
    "\n",
    "\n",
    "* $m$: seasonality of the time series\n",
    "* $s_t$: seosanl forecast component\n",
    "* $s_{t-m}$ : forecast for previous season\n",
    "* $\\gamma$: seasonal component smoothing factor  $0 \\le \\gamma \\le 1 - \\alpha$\n"
   ]
  },
  {
   "cell_type": "code",
   "execution_count": null,
   "id": "60b9c7d7-9277-429f-a291-49c9423edca4",
   "metadata": {},
   "outputs": [],
   "source": []
  }
 ],
 "metadata": {
  "kernelspec": {
   "display_name": "tseries",
   "language": "python",
   "name": "tseries"
  },
  "language_info": {
   "codemirror_mode": {
    "name": "ipython",
    "version": 3
   },
   "file_extension": ".py",
   "mimetype": "text/x-python",
   "name": "python",
   "nbconvert_exporter": "python",
   "pygments_lexer": "ipython3",
   "version": "3.8.19"
  }
 },
 "nbformat": 4,
 "nbformat_minor": 5
}
