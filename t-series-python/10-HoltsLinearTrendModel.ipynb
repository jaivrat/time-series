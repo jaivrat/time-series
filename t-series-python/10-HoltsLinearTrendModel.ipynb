{
 "cells": [
  {
   "cell_type": "markdown",
   "id": "91b06b65-088f-4f3f-8ae2-96a00ccac3a6",
   "metadata": {},
   "source": [
    "Credits to Egor Howell.. https://youtu.be/s6aRM8gLXwU?list=PLKmQjl_R9bYd32uHImJxQSFZU5LPuXfQe\n"
   ]
  },
  {
   "cell_type": "markdown",
   "id": "13d6f923-1830-4c7a-ab0c-92b0f1c5d05e",
   "metadata": {},
   "source": [
    "### Introduction\n",
    "\n",
    "Recap on explonential smoothing. \n",
    "\n",
    "=> More weight on recent Observations\n",
    "\n",
    "=> Weights of older observations decay exponentially\n",
    "\n",
    "Earlier model was **Simple exponential smoothing** which does not take into account the trend and seasonality. It used only the level.\n",
    "\n",
    "We will do Holt's linear trend method (also known as double exponential smoothing) -> Adds a linear trend component to the previous model(simeple exponential smoothing)\n",
    "\n",
    "\n",
    "\n",
    "### Holt's Linear Trend Model\n",
    "\n",
    "Overall Equation:\n",
    "$$\n",
    "\\hat y_{t+h} = l_t + h b_t\n",
    "$$\n",
    "\n",
    "Level Equation:\n",
    "$$\n",
    "l_t = \\alpha y_t + (1-\\alpha)(l_{t-1} + b_{t-1})\n",
    "$$\n",
    "\n",
    "Trend Equation:\n",
    "$$\n",
    "b_t = \\beta (l_t - l_{t-1}) + (1-\\beta) b_{t-1}\n",
    "$$\n",
    "\n",
    "*  $b_t$:  is the forecasted trend component\n",
    "*  $b_{t-1}$:  is the previous forecasted trend\n",
    "*  $\\beta$: trend smoothing factor, $ 0 <= \\beta <= 1$"
   ]
  },
  {
   "cell_type": "code",
   "execution_count": null,
   "id": "856cf30d-364f-48a1-9052-ebea2d0ce5a5",
   "metadata": {},
   "outputs": [],
   "source": []
  }
 ],
 "metadata": {
  "kernelspec": {
   "display_name": "tseries",
   "language": "python",
   "name": "tseries"
  },
  "language_info": {
   "codemirror_mode": {
    "name": "ipython",
    "version": 3
   },
   "file_extension": ".py",
   "mimetype": "text/x-python",
   "name": "python",
   "nbconvert_exporter": "python",
   "pygments_lexer": "ipython3",
   "version": "3.8.19"
  }
 },
 "nbformat": 4,
 "nbformat_minor": 5
}
